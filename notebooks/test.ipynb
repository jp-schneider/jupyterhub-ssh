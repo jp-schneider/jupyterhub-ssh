{
 "cells": [
  {
   "cell_type": "code",
   "execution_count": null,
   "metadata": {},
   "outputs": [],
   "source": [
    "import aiohttp\n",
    "from dotenv import load_dotenv\n",
    "import os\n",
    "from aiohttp import ClientSession\n",
    "import urllib\n",
    "import sys\n",
    "from jupyterhub_ssh import NotebookSSHServer, JupyterHubSSH, Terminado, ClientSession\n",
    "from jupyterhub_ssh.terminado import Terminado\n",
    "#load_ext\n",
    "\n",
    "load_dotenv(\"../.env\")"
   ]
  },
  {
   "cell_type": "code",
   "execution_count": null,
   "metadata": {},
   "outputs": [],
   "source": [
    "app = JupyterHubSSH()\n",
    "app.config_file = os.path.abspath(\"../jupyterhub_ssh_config.py\")\n",
    "app.initialize()\n",
    "app.host_key_path = os.path.normpath(os.path.join(os.path.abspath(\"..\"), app.host_key_path))\n"
   ]
  },
  {
   "cell_type": "code",
   "execution_count": null,
   "metadata": {},
   "outputs": [],
   "source": [
    "token = os.environ.get(\"NBSERVER_TOKEN\")\n",
    "username = os.environ.get(\"NBSERVER_USER\")\n",
    "hub_url = os.environ.get(\"HUB_URL\")\n",
    "\n",
    "headers = {\"Authorization\": f\"token {token}\"}\n",
    "\n",
    "def urljoin(*args):\n",
    "    ret = args[0]\n",
    "    for a in args[1:]:\n",
    "        ret = urllib.parse.urljoin(ret + \"/\", a)\n",
    "    return ret\n",
    "\n",
    "create_url = urljoin(hub_url, \"hub/api/users\", username, \"server\")\n",
    "\n",
    "# async with ClientSession(headers=headers) as session:\n",
    "#     async with session.post(create_url, ssl=False) as resp:\n",
    "#         print(resp)"
   ]
  },
  {
   "cell_type": "code",
   "execution_count": null,
   "metadata": {},
   "outputs": [],
   "source": [
    "server = NotebookSSHServer(app)\n",
    "await server.validate_password(username, token)"
   ]
  },
  {
   "cell_type": "code",
   "execution_count": null,
   "metadata": {},
   "outputs": [],
   "source": [
    "async with ClientSession() as client, Terminado(\n",
    "            self.notebook_url, self.token, client, self.use_ssl\n",
    "        ) as terminado:\n",
    "    pass"
   ]
  },
  {
   "cell_type": "code",
   "execution_count": null,
   "metadata": {},
   "outputs": [],
   "source": [
    "terminado = Terminado(server.notebook_url, server.token, ClientSession(), server.use_ssl)\n",
    "\n",
    "notebook_secure = terminado.notebook_url.scheme == \"https\"\n",
    "\n",
    "create_url = terminado.notebook_url / \"api/terminals\"\n",
    "async with terminado.session.post(create_url, headers=terminado.headers, ssl=terminado.use_ssl) as resp:\n",
    "    data = await resp.json()\n",
    "    \n",
    "# terminado.terminal_name = data[\"name\"]\n",
    "# socket_url = terminado.notebook_url / \"terminals/websocket\" / terminado.terminal_name\n",
    "# ws_url = socket_url.with_scheme(\"wss\" if notebook_secure else \"ws\")\n",
    "\n",
    "# terminado.ws = await websockets.connect(str(ws_url), extra_headers=terminado.headers, ssl=terminado.use_ssl)\n"
   ]
  }
 ],
 "metadata": {
  "kernelspec": {
   "display_name": "students-hub-Mabfj7wH-py3.9",
   "language": "python",
   "name": "python3"
  },
  "language_info": {
   "codemirror_mode": {
    "name": "ipython",
    "version": 3
   },
   "file_extension": ".py",
   "mimetype": "text/x-python",
   "name": "python",
   "nbconvert_exporter": "python",
   "pygments_lexer": "ipython3",
   "version": "3.9.13"
  },
  "orig_nbformat": 4
 },
 "nbformat": 4,
 "nbformat_minor": 2
}
